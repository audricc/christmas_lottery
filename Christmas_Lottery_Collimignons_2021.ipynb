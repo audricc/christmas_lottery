{
  "nbformat": 4,
  "nbformat_minor": 0,
  "metadata": {
    "colab": {
      "name": "Christmas Lottery Collimignons.ipynb",
      "provenance": [],
      "collapsed_sections": [],
      "include_colab_link": true
    },
    "kernelspec": {
      "name": "python3",
      "display_name": "Python 3"
    }
  },
  "cells": [
    {
      "cell_type": "markdown",
      "metadata": {
        "id": "view-in-github",
        "colab_type": "text"
      },
      "source": [
        "<a href=\"https://colab.research.google.com/github/audricc/christmas_lottery/blob/master/Christmas_Lottery_Collimignons_2021.ipynb\" target=\"_parent\"><img src=\"https://colab.research.google.com/assets/colab-badge.svg\" alt=\"Open In Colab\"/></a>"
      ]
    },
    {
      "cell_type": "code",
      "metadata": {
        "id": "4y4gddDYOWhn"
      },
      "source": [
        "import numpy as np\n",
        "import pandas as pd\n",
        "from copy import deepcopy\n",
        "from numpy.random import permutation\n",
        "import datetime as dt"
      ],
      "execution_count": 2,
      "outputs": []
    },
    {
      "cell_type": "code",
      "metadata": {
        "id": "Cs9lcEN7OXRq",
        "colab": {
          "base_uri": "https://localhost:8080/"
        },
        "outputId": "cec2be78-87b1-4de4-be8a-b19a8ae34754"
      },
      "source": [
        "# adults\n",
        "people = ['Audric', 'Eve', 'Guillaume', 'Julia', 'Marie', 'Marine', 'Solène', 'Yann']\n",
        "spouses = {\n",
        "    'Audric':'Julia', \n",
        "    'Benjamin':'Solène',\n",
        "    'Eve':'Guillaume',\n",
        "    'Guillaume':'Eve',\n",
        "    'Julia':'Audric',\n",
        "    'Marie':'Yann',\n",
        "    'Marine':'Roman',\n",
        "    'Roman':'Marine',\n",
        "    'Solène':'Benjamin',\n",
        "    'Yann':'Marie'\n",
        "}\n",
        "previous_year = {\n",
        "    'Audric':None, \n",
        "    'Benjamin':None,\n",
        "    'Eve':None,\n",
        "    'Guillaume':None,\n",
        "    'Julia':None,\n",
        "    'Marie':None,\n",
        "    'Marine':None,\n",
        "    'Roman':None,\n",
        "    'Solène':None,\n",
        "    'Yann':None\n",
        "}\n",
        "\n",
        "valid_draw = False\n",
        "n = 0\n",
        "\n",
        "while valid_draw is False:\n",
        "    # random permutation\n",
        "    n += 1\n",
        "    draws = [people[k] for k in permutation(range(len(people)))]\n",
        "\n",
        "    # verification\n",
        "    invalid_permutation = 0\n",
        "    for k in range(len(people)):\n",
        "        gifter = people[k]\n",
        "        receiver = draws[k]\n",
        "        if (receiver == gifter) | (receiver == spouses[gifter]) | (receiver == previous_year[gifter]):\n",
        "            invalid_permutation += 1 \n",
        "    if invalid_permutation == 0:\n",
        "        valid_draw = True\n",
        "\n",
        "print('{0} xmas lottery draw:'.format(dt.date.today().year))\n",
        "for k in range(len(people)):\n",
        "    gifter = people[k]\n",
        "    receiver = draws[k]\n",
        "    print(\"\"\"{0} picks a present for {1}\"\"\".format(gifter, receiver))\n",
        "print('number of attempts = {0}'.format(n))"
      ],
      "execution_count": 4,
      "outputs": [
        {
          "output_type": "stream",
          "name": "stdout",
          "text": [
            "2021 xmas lottery draw:\n",
            "Audric picks a present for Marie\n",
            "Eve picks a present for Julia\n",
            "Guillaume picks a present for Marine\n",
            "Julia picks a present for Yann\n",
            "Marie picks a present for Guillaume\n",
            "Marine picks a present for Solène\n",
            "Solène picks a present for Eve\n",
            "Yann picks a present for Audric\n",
            "number of attempts = 3\n"
          ]
        }
      ]
    },
    {
      "cell_type": "code",
      "metadata": {
        "id": "lANn8zEtNgLY"
      },
      "source": [
        ""
      ],
      "execution_count": null,
      "outputs": []
    }
  ]
}