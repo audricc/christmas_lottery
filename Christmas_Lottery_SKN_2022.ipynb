{
  "nbformat": 4,
  "nbformat_minor": 0,
  "metadata": {
    "colab": {
      "provenance": [],
      "collapsed_sections": [],
      "include_colab_link": true
    },
    "kernelspec": {
      "name": "python3",
      "display_name": "Python 3"
    }
  },
  "cells": [
    {
      "cell_type": "markdown",
      "metadata": {
        "id": "view-in-github",
        "colab_type": "text"
      },
      "source": [
        "<a href=\"https://colab.research.google.com/github/audricc/christmas_lottery/blob/master/Christmas_Lottery_SKN_2022.ipynb\" target=\"_parent\"><img src=\"https://colab.research.google.com/assets/colab-badge.svg\" alt=\"Open In Colab\"/></a>"
      ]
    },
    {
      "cell_type": "code",
      "metadata": {
        "id": "4y4gddDYOWhn"
      },
      "source": [
        "import numpy as np\n",
        "import pandas as pd\n",
        "from copy import deepcopy\n",
        "from numpy.random import permutation\n",
        "import datetime as dt"
      ],
      "execution_count": 2,
      "outputs": []
    },
    {
      "cell_type": "code",
      "metadata": {
        "id": "Cs9lcEN7OXRq",
        "colab": {
          "base_uri": "https://localhost:8080/"
        },
        "outputId": "e8d5653a-bc13-4fdb-9727-ea065dbb27c3"
      },
      "source": [
        "# adults\n",
        "people = ['Al', 'Audric', 'Carolyn', 'Cate', 'Gregg', 'Jeff', 'Julia', 'Meryl']\n",
        "spouses = {\n",
        "    'Al':'Carolyn', \n",
        "    'Audric':'Julia', \n",
        "    'Carolyn':'Al', \n",
        "    'Cate':'Jeff', \n",
        "    'Gregg':'Meryl', \n",
        "    'Jeff':'Cate', \n",
        "    'Julia':'Audric', \n",
        "    'Meryl':'Gregg'\n",
        "}\n",
        "previous_year = {\n",
        "    'Al':'Jeff', \n",
        "    'Audric':'Al', \n",
        "    'Carolyn':'Julia', \n",
        "    'Cate':'Gregg', \n",
        "    'Gregg':'Audric', \n",
        "    'Jeff':'Meryl', \n",
        "    'Julia':'Carolyn', \n",
        "    'Meryl':'Cate'\n",
        "}\n",
        "\n",
        "valid_draw = False\n",
        "n = 0\n",
        "\n",
        "while valid_draw is False:\n",
        "    # random permutation\n",
        "    n += 1\n",
        "    draws = [people[k] for k in permutation(range(len(people)))]\n",
        "\n",
        "    # verification\n",
        "    invalid_permutation = 0\n",
        "    for k in range(len(people)):\n",
        "        gifter = people[k]\n",
        "        receiver = draws[k]\n",
        "        if (receiver == gifter) | (receiver == spouses[gifter]) | (receiver == previous_year[gifter]):\n",
        "            invalid_permutation += 1 \n",
        "    if invalid_permutation == 0:\n",
        "        valid_draw = True\n",
        "\n",
        "print('{0} xmas lottery draw:'.format(dt.date.today().year))\n",
        "for k in range(len(people)):\n",
        "    gifter = people[k]\n",
        "    receiver = draws[k]\n",
        "    print(\"\"\"{0} picks a present for {1}\"\"\".format(gifter, receiver))\n",
        "print('number of attempts = {0}'.format(n))"
      ],
      "execution_count": 3,
      "outputs": [
        {
          "output_type": "stream",
          "name": "stdout",
          "text": [
            "2022 xmas lottery draw:\n",
            "Al picks a present for Audric\n",
            "Audric picks a present for Gregg\n",
            "Carolyn picks a present for Cate\n",
            "Cate picks a present for Al\n",
            "Gregg picks a present for Jeff\n",
            "Jeff picks a present for Carolyn\n",
            "Julia picks a present for Meryl\n",
            "Meryl picks a present for Julia\n",
            "number of attempts = 16\n"
          ]
        }
      ]
    },
    {
      "cell_type": "code",
      "metadata": {
        "id": "wBJglmPKOZXv",
        "colab": {
          "base_uri": "https://localhost:8080/"
        },
        "outputId": "b1d944ab-6442-4fda-b0c3-ff5712d49cab"
      },
      "source": [
        "# kiddos\n",
        "people = ['Birdie', 'Clara', 'Eric', 'Gabin', 'Gia', 'Delaney', 'Hazel', 'Gideon']\n",
        "siblings = {\n",
        "    'Birdie':['Hazel', 'Gideon'],\n",
        "    'Clara':['Eric', 'Gabin'],\n",
        "    'Eric':['Clara', 'Gabin'],\n",
        "    'Gabin':['Clara', 'Eric'],\n",
        "    'Gia':['Delaney'],\n",
        "    'Delaney':['Gia'],\n",
        "    'Hazel':['Birdie', 'Gideon'],\n",
        "    'Gideon':['Hazel', 'Birdie']\n",
        "}\n",
        "previous_year = {\n",
        "    'Birdie':'Gia',\n",
        "    'Clara':'Hazel',\n",
        "    'Eric':'Delaney',\n",
        "    'Gabin':'Gideon',\n",
        "    'Gia':'Birdie',\n",
        "    'Delaney':'Eric',\n",
        "    'Hazel':'Gabin',\n",
        "    'Gideon':'Clara'\n",
        "}\n",
        "\n",
        "valid_draw = False\n",
        "n = 0\n",
        "\n",
        "while valid_draw is False:\n",
        "    # random permutation\n",
        "    n += 1\n",
        "    draws = [people[k] for k in permutation(range(len(people)))]\n",
        "\n",
        "    # verification\n",
        "    invalid_permutation = 0\n",
        "    for k in range(len(people)):\n",
        "        gifter = people[k]\n",
        "        receiver = draws[k]\n",
        "        if (receiver == gifter) | (receiver in siblings[gifter]) | (receiver == previous_year[gifter]):\n",
        "            invalid_permutation += 1 \n",
        "    if invalid_permutation == 0:\n",
        "        valid_draw = True\n",
        "\n",
        "print('{0} xmas lottery draw:'.format(dt.date.today().year))\n",
        "for k in range(len(people)):\n",
        "    gifter = people[k]\n",
        "    receiver = draws[k]\n",
        "    print(\"\"\"{0} picks a present for {1}\"\"\".format(gifter, receiver))\n",
        "print('number of attempts = {0}'.format(n))"
      ],
      "execution_count": 4,
      "outputs": [
        {
          "output_type": "stream",
          "name": "stdout",
          "text": [
            "2022 xmas lottery draw:\n",
            "Birdie picks a present for Gabin\n",
            "Clara picks a present for Gideon\n",
            "Eric picks a present for Gia\n",
            "Gabin picks a present for Delaney\n",
            "Gia picks a present for Hazel\n",
            "Delaney picks a present for Birdie\n",
            "Hazel picks a present for Clara\n",
            "Gideon picks a present for Eric\n",
            "number of attempts = 69\n"
          ]
        }
      ]
    },
    {
      "cell_type": "code",
      "metadata": {
        "id": "tdHn6YuNOb61"
      },
      "source": [],
      "execution_count": null,
      "outputs": []
    }
  ]
}