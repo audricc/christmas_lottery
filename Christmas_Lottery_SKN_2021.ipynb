{
  "nbformat": 4,
  "nbformat_minor": 0,
  "metadata": {
    "colab": {
      "name": "Christmas Lottery SKN.ipynb",
      "provenance": [],
      "collapsed_sections": [],
      "include_colab_link": true
    },
    "kernelspec": {
      "name": "python3",
      "display_name": "Python 3"
    }
  },
  "cells": [
    {
      "cell_type": "markdown",
      "metadata": {
        "id": "view-in-github",
        "colab_type": "text"
      },
      "source": [
        "<a href=\"https://colab.research.google.com/github/audricc/christmas_lottery/blob/master/Christmas_Lottery_SKN_2021.ipynb\" target=\"_parent\"><img src=\"https://colab.research.google.com/assets/colab-badge.svg\" alt=\"Open In Colab\"/></a>"
      ]
    },
    {
      "cell_type": "code",
      "metadata": {
        "id": "4y4gddDYOWhn"
      },
      "source": [
        "import numpy as np\n",
        "import pandas as pd\n",
        "from copy import deepcopy\n",
        "from numpy.random import permutation\n",
        "import datetime as dt"
      ],
      "execution_count": 4,
      "outputs": []
    },
    {
      "cell_type": "code",
      "metadata": {
        "id": "Cs9lcEN7OXRq",
        "colab": {
          "base_uri": "https://localhost:8080/"
        },
        "outputId": "e13f47cd-1dc6-4aa2-98fb-07d7f0fb6941"
      },
      "source": [
        "# adults\n",
        "people = ['Al', 'Audric', 'Carolyn', 'Cate', 'Gregg', 'Jeff', 'Julia', 'Meryl']\n",
        "spouses = {\n",
        "    'Al':'Carolyn', \n",
        "    'Audric':'Julia', \n",
        "    'Carolyn':'Al', \n",
        "    'Cate':'Jeff', \n",
        "    'Gregg':'Meryl', \n",
        "    'Jeff':'Cate', \n",
        "    'Julia':'Audric', \n",
        "    'Meryl':'Gregg'\n",
        "}\n",
        "previous_year = {\n",
        "    'Al':'Julia', \n",
        "    'Audric':'Gregg', \n",
        "    'Carolyn':'Jeff', \n",
        "    'Cate':'Carolyn', \n",
        "    'Gregg':'Cate', \n",
        "    'Jeff':'Audric', \n",
        "    'Julia':'Meryl', \n",
        "    'Meryl':'Al'\n",
        "}\n",
        "\n",
        "valid_draw = False\n",
        "n = 0\n",
        "\n",
        "while valid_draw is False:\n",
        "    # random permutation\n",
        "    n += 1\n",
        "    draws = [people[k] for k in permutation(range(len(people)))]\n",
        "\n",
        "    # verification\n",
        "    invalid_permutation = 0\n",
        "    for k in range(len(people)):\n",
        "        gifter = people[k]\n",
        "        receiver = draws[k]\n",
        "        if (receiver == gifter) | (receiver == spouses[gifter]) | (receiver == previous_year[gifter]):\n",
        "            invalid_permutation += 1 \n",
        "    if invalid_permutation == 0:\n",
        "        valid_draw = True\n",
        "\n",
        "print('{0} xmas lottery draw:'.format(dt.date.today().year))\n",
        "for k in range(len(people)):\n",
        "    gifter = people[k]\n",
        "    receiver = draws[k]\n",
        "    print(\"\"\"{0} picks a present for {1}\"\"\".format(gifter, receiver))\n",
        "print('number of attempts = {0}'.format(n))"
      ],
      "execution_count": 14,
      "outputs": [
        {
          "output_type": "stream",
          "name": "stdout",
          "text": [
            "2021 xmas lottery draw:\n",
            "Al picks a present for Jeff\n",
            "Audric picks a present for Al\n",
            "Carolyn picks a present for Julia\n",
            "Cate picks a present for Gregg\n",
            "Gregg picks a present for Audric\n",
            "Jeff picks a present for Meryl\n",
            "Julia picks a present for Carolyn\n",
            "Meryl picks a present for Cate\n",
            "number of attempts = 38\n"
          ]
        }
      ]
    },
    {
      "cell_type": "code",
      "metadata": {
        "id": "wBJglmPKOZXv",
        "colab": {
          "base_uri": "https://localhost:8080/"
        },
        "outputId": "38b370f7-b543-482c-dbe9-11439c70aec4"
      },
      "source": [
        "# kiddos\n",
        "people = ['Birdie', 'Clara', 'Eric', 'Gabin', 'Gia', 'Delaney', 'Hazel', 'Gideon']\n",
        "siblings = {\n",
        "    'Birdie':['Hazel', 'Gideon'],\n",
        "    'Clara':['Eric', 'Gabin'],\n",
        "    'Eric':['Clara', 'Gabin'],\n",
        "    'Gabin':['Clara', 'Eric'],\n",
        "    'Gia':['Delaney'],\n",
        "    'Delaney':['Gia'],\n",
        "    'Hazel':['Birdie', 'Gideon'],\n",
        "    'Gideon':['Hazel', 'Birdie']\n",
        "}\n",
        "previous_year = {\n",
        "    'Birdie':'Gabin',\n",
        "    'Clara':'Delaney',\n",
        "    'Eric':'Hazel',\n",
        "    'Gabin':'Gia',\n",
        "    'Gia':'Clara',\n",
        "    'Delaney':'Birdie',\n",
        "    'Hazel':'Eric',\n",
        "    'Gideon':None\n",
        "}\n",
        "\n",
        "valid_draw = False\n",
        "n = 0\n",
        "\n",
        "while valid_draw is False:\n",
        "    # random permutation\n",
        "    n += 1\n",
        "    draws = [people[k] for k in permutation(range(len(people)))]\n",
        "\n",
        "    # verification\n",
        "    invalid_permutation = 0\n",
        "    for k in range(len(people)):\n",
        "        gifter = people[k]\n",
        "        receiver = draws[k]\n",
        "        if (receiver == gifter) | (receiver in siblings[gifter]) | (receiver == previous_year[gifter]):\n",
        "            invalid_permutation += 1 \n",
        "    if invalid_permutation == 0:\n",
        "        valid_draw = True\n",
        "\n",
        "print('{0} xmas lottery draw:'.format(dt.date.today().year))\n",
        "for k in range(len(people)):\n",
        "    gifter = people[k]\n",
        "    receiver = draws[k]\n",
        "    print(\"\"\"{0} picks a present for {1}\"\"\".format(gifter, receiver))\n",
        "print('number of attempts = {0}'.format(n))"
      ],
      "execution_count": 15,
      "outputs": [
        {
          "output_type": "stream",
          "name": "stdout",
          "text": [
            "2021 xmas lottery draw:\n",
            "Birdie picks a present for Gia\n",
            "Clara picks a present for Hazel\n",
            "Eric picks a present for Delaney\n",
            "Gabin picks a present for Gideon\n",
            "Gia picks a present for Birdie\n",
            "Delaney picks a present for Eric\n",
            "Hazel picks a present for Gabin\n",
            "Gideon picks a present for Clara\n",
            "number of attempts = 171\n"
          ]
        }
      ]
    },
    {
      "cell_type": "code",
      "metadata": {
        "id": "tdHn6YuNOb61"
      },
      "source": [
        ""
      ],
      "execution_count": null,
      "outputs": []
    }
  ]
}